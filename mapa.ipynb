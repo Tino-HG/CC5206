{
 "cells": [
  {
   "cell_type": "code",
   "execution_count": 2,
   "metadata": {},
   "outputs": [
    {
     "name": "stderr",
     "output_type": "stream",
     "text": [
      "C:\\Users\\Tino\\Anaconda3\\lib\\site-packages\\matplotlib\\pyplot.py:523: RuntimeWarning: More than 20 figures have been opened. Figures created through the pyplot interface (`matplotlib.pyplot.figure`) are retained until explicitly closed and may consume too much memory. (To control this warning, see the rcParam `figure.max_open_warning`).\n",
      "  max_open_warning, RuntimeWarning)\n"
     ]
    }
   ],
   "source": [
    "import numpy as np\n",
    "import pandas as pd\n",
    "import pdb\n",
    "import cartopy.crs as ccrs\n",
    "import matplotlib.pyplot as plt\n",
    "import cartopy.io.shapereader as shpreader\n",
    "import copy\n",
    "\n",
    "for yr in range(1980,2016):\n",
    "    labelname = 'Labels'+str(yr)+'.xlsx'\n",
    "    labels = pd.read_excel(labelname, keep_default_na=False, na_values='')\n",
    "    #labels.head()\n",
    "    \n",
    "\n",
    "    Cluster1 = labels[labels['Label'] == 1]['Country']\n",
    "    Cluster2 = labels[labels['Label'] == 2]['Country']\n",
    "    Cluster3 = labels[labels['Label'] == 3]['Country']\n",
    "\n",
    "    shapename = 'admin_0_countries'\n",
    "    countries_shp = shpreader.natural_earth(resolution='110m', category='cultural', name=shapename)\n",
    "\n",
    "    plt.figure(figsize=(20,15))\n",
    "    ax = plt.axes(projection=ccrs.PlateCarree())\n",
    "    #color = \"r\"\n",
    "    for country in shpreader.Reader(countries_shp).records():\n",
    "        if any(country.attributes['NAME_LONG'] in x for x in Cluster1):\n",
    "            if any(Cluster1.str.contains(\"United States\")):\n",
    "                color = 'b'\n",
    "            elif any(Cluster1.str.contains(\"Brazil\")):\n",
    "                color = 'g'\n",
    "            else:\n",
    "                color = 'r'\n",
    "        elif any(country.attributes['NAME_LONG'] in x for x in Cluster2):\n",
    "            if any(Cluster2.str.contains(\"United States\")):\n",
    "                color = 'b'\n",
    "            elif any(Cluster2.str.contains(\"Brazil\")):\n",
    "                color = 'g'\n",
    "            else:\n",
    "                color = 'r'\n",
    "        elif any(country.attributes['NAME_LONG'] in x for x in Cluster3):\n",
    "            if any(Cluster3.str.contains(\"United States\")):\n",
    "                color = 'b'\n",
    "            elif any(Cluster3.str.contains(\"Brazil\")):\n",
    "                color = 'g'\n",
    "            else:\n",
    "                color = 'r'\n",
    "        '''\n",
    "        elif any(country.attributes['NAME_LONG'] in x for x in y_l):\n",
    "            color = 'y'\n",
    "        '''\n",
    "        ax.add_geometries(country.geometry, ccrs.PlateCarree(),facecolor=color,label=country.attributes['NAME_LONG'])\n",
    "\n",
    "    fig_size = plt.rcParams[\"figure.figsize\"]\n",
    "\n",
    "    # Set figure width to 12 and height to 9\n",
    "    fig_size[0] = 240\n",
    "    fig_size[1] = 180\n",
    "    plt.rcParams[\"figure.figsize\"] = fig_size\n",
    "    #plt.show()\n",
    "    mapname='k3_dev_'+str(yr)+'_map'\n",
    "    plt.savefig(mapname)\n",
    "    plt.gcf().clear()"
   ]
  },
  {
   "cell_type": "code",
   "execution_count": null,
   "metadata": {
    "collapsed": true
   },
   "outputs": [],
   "source": []
  },
  {
   "cell_type": "code",
   "execution_count": null,
   "metadata": {
    "collapsed": true
   },
   "outputs": [],
   "source": []
  }
 ],
 "metadata": {
  "kernelspec": {
   "display_name": "Python 3",
   "language": "python",
   "name": "python3"
  },
  "language_info": {
   "codemirror_mode": {
    "name": "ipython",
    "version": 3
   },
   "file_extension": ".py",
   "mimetype": "text/x-python",
   "name": "python",
   "nbconvert_exporter": "python",
   "pygments_lexer": "ipython3",
   "version": "3.6.3"
  }
 },
 "nbformat": 4,
 "nbformat_minor": 2
}
