{
 "cells": [
  {
   "cell_type": "markdown",
   "metadata": {},
   "source": [
    "# Proyecto CC5206\n",
    "\n",
    "Mineria de datos sobre datasets del banco mundial. Eliminar ultimas filas del excel"
   ]
  },
  {
   "cell_type": "markdown",
   "metadata": {},
   "source": [
    "# Importar librerias y dataset"
   ]
  },
  {
   "cell_type": "code",
   "execution_count": 25,
   "metadata": {},
   "outputs": [],
   "source": [
    "# encoding=utf8  \n",
    "import sys  \n",
    "reload(sys)  \n",
    "sys.setdefaultencoding('utf8')\n",
    "import numpy as np\n",
    "import pandas as pd\n",
    "import pdb\n",
    "\n",
    "d_2016 = pd.read_excel('Jobs_proc.xlsx', keep_default_na=False, na_values='')\n",
    "\n",
    "d_2016.head()"
   ]
  },
  {
   "cell_type": "markdown",
   "metadata": {},
   "source": [
    "# Eliminar Outliers"
   ]
  },
  {
   "cell_type": "code",
   "execution_count": 2,
   "metadata": {},
   "outputs": [],
   "source": [
    "#'''\n",
    "outliers1 = [u'High income', u'High income: OECD', u'OECD members', u'World']\n",
    "outliers2 = [u'East Asia & Pacific',u'East Asia & Pacific (excluding high income)',\n",
    "             u'Euro area',u'Europe & Central Asia',u'European Union',u'Low & middle income',\n",
    "             u'Middle income',u'North America',u'Upper middle income']\n",
    "\n",
    "outliers3 = [u'Arab World', u'Sub-Saharan Africa',\n",
    "             u'Sub-Saharan Africa (excluding high income)', u'Middle East & North Africa',\n",
    "             u'Middle East & North Africa (excluding high income)', \n",
    "             u'Latin America & Caribbean',u'Latin America & Caribbean (excluding high income)',\n",
    "             u'Least developed countries: UN classification', \n",
    "             u'Heavily indebted poor countries (HIPC)',u'High income',u'High income: nonOECD',\n",
    "             u'High income: OECD', u'Euro area',u'Europe & Central Asia',\n",
    "             u'Europe & Central Asia (excluding high income)',u'European Union',\n",
    "             u'East Asia & Pacific',u'East Asia & Pacific (excluding high income)',\n",
    "             u'Lower middle income',u'South Asia']\n",
    "\n",
    "outliers4 = [u'IDA & IBRD total', u'IDA blend', u'IDA only', u'IDA total',\n",
    "            u'East Asia & Pacific (IDA & IBRD countries)',u'Europe & Central Asia (IDA & IBRD countries)',\n",
    "            u'Fragile and conflict affected situations',u'IBRD only',u'Late-demographic dividend',\n",
    "            u'Latin America & the Caribbean (IDA & IBRD countries)',\n",
    "            u'Middle East & North Africa (IDA & IBRD countries)',u'Not classified',\n",
    "            u'Other small states',u'Post-demographic dividend',u'Pre-demographic dividend']\n",
    "\n",
    "\n",
    "outliers5 = [u'Early-demographic dividend',u'Early-demographic dividend',u'Central Europe and the Baltics',\n",
    "            u'South Asia (IDA & IBRD)',u'Sub-Saharan Africa (IDA & IBRD countries)',\n",
    "            u'Sub-Saharan Africa (IDA & IBRD countries)', u'South Asia (IDA & IBRD)']\n",
    "\n",
    "for out in outliers1:\n",
    "    d_2016 = d_2016[d_2016['Country Name'] != out]\n",
    "for out in outliers2:\n",
    "    d_2016 = d_2016[d_2016['Country Name'] != out]\n",
    "for out in outliers3:\n",
    "    d_2016 = d_2016[d_2016['Country Name'] != out]\n",
    "for out in outliers4:\n",
    "    d_2016 = d_2016[d_2016['Country Name'] != out]\n",
    "for out in outliers5:\n",
    "    d_2016 = d_2016[d_2016['Country Name'] != out]\n",
    "#paises = xdata['Country Name'].values.tolist()\n",
    "paises = d_2016['Country Name'].values.tolist()\n",
    "#xdata.head()"
   ]
  },
  {
   "cell_type": "markdown",
   "metadata": {},
   "source": [
    "# Normalización"
   ]
  },
  {
   "cell_type": "code",
   "execution_count": 3,
   "metadata": {},
   "outputs": [
    {
     "data": {
      "text/html": [
       "<div>\n",
       "<style>\n",
       "    .dataframe thead tr:only-child th {\n",
       "        text-align: right;\n",
       "    }\n",
       "\n",
       "    .dataframe thead th {\n",
       "        text-align: left;\n",
       "    }\n",
       "\n",
       "    .dataframe tbody tr th {\n",
       "        vertical-align: top;\n",
       "    }\n",
       "</style>\n",
       "<table border=\"1\" class=\"dataframe\">\n",
       "  <thead>\n",
       "    <tr style=\"text-align: right;\">\n",
       "      <th></th>\n",
       "      <th>Country Name</th>\n",
       "      <th>Country Code</th>\n",
       "      <th>Access to electricity (% of population)</th>\n",
       "      <th>Adolescent fertility rate (births per 1,000 women ages 15-19)</th>\n",
       "      <th>Age dependency ratio (% of working-age population)</th>\n",
       "      <th>Agriculture value added per worker (constant 2005 US$)</th>\n",
       "      <th>Agriculture, value added (% of GDP)</th>\n",
       "      <th>Agriculture, value added (annual % growth)</th>\n",
       "      <th>Agriculture, value added (constant 2005 US$)</th>\n",
       "      <th>Air transport, registered carrier departures worldwide</th>\n",
       "      <th>...</th>\n",
       "      <th>Total employment, total (ages 15+)</th>\n",
       "      <th>Unemployment, female (% of female labor force) (modeled ILO estimate)</th>\n",
       "      <th>Unemployment, male (% of male labor force) (modeled ILO estimate)</th>\n",
       "      <th>Unemployment, total (% of total labor force) (modeled ILO estimate)</th>\n",
       "      <th>Unemployment, youth female (% of female labor force ages 15-24) (modeled ILO estimate)</th>\n",
       "      <th>Unemployment, youth male (% of male labor force ages 15-24) (modeled ILO estimate)</th>\n",
       "      <th>Unemployment, youth total (% of total labor force ages 15-24) (modeled ILO estimate)</th>\n",
       "      <th>Urban population</th>\n",
       "      <th>Urban population (% of total)</th>\n",
       "      <th>Weeks of severance pay for redundancy of experienced workers</th>\n",
       "    </tr>\n",
       "  </thead>\n",
       "  <tbody>\n",
       "    <tr>\n",
       "      <th>0</th>\n",
       "      <td>Afghanistan</td>\n",
       "      <td>AFG</td>\n",
       "      <td>0.391026</td>\n",
       "      <td>0.371760</td>\n",
       "      <td>0.759386</td>\n",
       "      <td>0.001878</td>\n",
       "      <td>0.389207</td>\n",
       "      <td>0.512795</td>\n",
       "      <td>0.007236</td>\n",
       "      <td>0.002658</td>\n",
       "      <td>...</td>\n",
       "      <td>0.009424</td>\n",
       "      <td>0.309091</td>\n",
       "      <td>0.216301</td>\n",
       "      <td>0.250814</td>\n",
       "      <td>0.290743</td>\n",
       "      <td>0.268128</td>\n",
       "      <td>0.281407</td>\n",
       "      <td>0.011169</td>\n",
       "      <td>0.193898</td>\n",
       "      <td>0.100000</td>\n",
       "    </tr>\n",
       "    <tr>\n",
       "      <th>1</th>\n",
       "      <td>Albania</td>\n",
       "      <td>ALB</td>\n",
       "      <td>1.000000</td>\n",
       "      <td>0.098201</td>\n",
       "      <td>0.288206</td>\n",
       "      <td>0.023421</td>\n",
       "      <td>0.368167</td>\n",
       "      <td>0.514480</td>\n",
       "      <td>0.006235</td>\n",
       "      <td>0.000209</td>\n",
       "      <td>...</td>\n",
       "      <td>0.001247</td>\n",
       "      <td>0.350649</td>\n",
       "      <td>0.545455</td>\n",
       "      <td>0.511401</td>\n",
       "      <td>0.307692</td>\n",
       "      <td>0.531197</td>\n",
       "      <td>0.469012</td>\n",
       "      <td>0.002170</td>\n",
       "      <td>0.523335</td>\n",
       "      <td>0.164835</td>\n",
       "    </tr>\n",
       "    <tr>\n",
       "      <th>2</th>\n",
       "      <td>Algeria</td>\n",
       "      <td>DZA</td>\n",
       "      <td>1.000000</td>\n",
       "      <td>0.045225</td>\n",
       "      <td>0.357783</td>\n",
       "      <td>0.022219</td>\n",
       "      <td>0.162579</td>\n",
       "      <td>0.689702</td>\n",
       "      <td>0.031894</td>\n",
       "      <td>0.006238</td>\n",
       "      <td>...</td>\n",
       "      <td>0.014095</td>\n",
       "      <td>0.428571</td>\n",
       "      <td>0.257053</td>\n",
       "      <td>0.309446</td>\n",
       "      <td>0.498044</td>\n",
       "      <td>0.345700</td>\n",
       "      <td>0.390285</td>\n",
       "      <td>0.036755</td>\n",
       "      <td>0.673362</td>\n",
       "      <td>0.050000</td>\n",
       "    </tr>\n",
       "    <tr>\n",
       "      <th>5</th>\n",
       "      <td>Angola</td>\n",
       "      <td>AGO</td>\n",
       "      <td>0.326923</td>\n",
       "      <td>0.816776</td>\n",
       "      <td>0.873489</td>\n",
       "      <td>0.004762</td>\n",
       "      <td>0.153240</td>\n",
       "      <td>0.499085</td>\n",
       "      <td>0.015177</td>\n",
       "      <td>0.001446</td>\n",
       "      <td>...</td>\n",
       "      <td>0.010228</td>\n",
       "      <td>0.179221</td>\n",
       "      <td>0.197492</td>\n",
       "      <td>0.211726</td>\n",
       "      <td>0.138201</td>\n",
       "      <td>0.161889</td>\n",
       "      <td>0.165829</td>\n",
       "      <td>0.014095</td>\n",
       "      <td>0.379705</td>\n",
       "      <td>0.208333</td>\n",
       "    </tr>\n",
       "    <tr>\n",
       "      <th>6</th>\n",
       "      <td>Antigua and Barbuda</td>\n",
       "      <td>ATG</td>\n",
       "      <td>0.902515</td>\n",
       "      <td>0.217909</td>\n",
       "      <td>0.303293</td>\n",
       "      <td>0.013607</td>\n",
       "      <td>0.036433</td>\n",
       "      <td>0.485343</td>\n",
       "      <td>0.000050</td>\n",
       "      <td>0.004858</td>\n",
       "      <td>...</td>\n",
       "      <td>NaN</td>\n",
       "      <td>NaN</td>\n",
       "      <td>NaN</td>\n",
       "      <td>NaN</td>\n",
       "      <td>NaN</td>\n",
       "      <td>NaN</td>\n",
       "      <td>NaN</td>\n",
       "      <td>0.000000</td>\n",
       "      <td>0.171022</td>\n",
       "      <td>0.184615</td>\n",
       "    </tr>\n",
       "  </tbody>\n",
       "</table>\n",
       "<p>5 rows × 98 columns</p>\n",
       "</div>"
      ],
      "text/plain": [
       "          Country Name Country Code  Access to electricity (% of population)  \\\n",
       "0          Afghanistan          AFG                                 0.391026   \n",
       "1              Albania          ALB                                 1.000000   \n",
       "2              Algeria          DZA                                 1.000000   \n",
       "5               Angola          AGO                                 0.326923   \n",
       "6  Antigua and Barbuda          ATG                                 0.902515   \n",
       "\n",
       "   Adolescent fertility rate (births per 1,000 women ages 15-19)  \\\n",
       "0                                           0.371760               \n",
       "1                                           0.098201               \n",
       "2                                           0.045225               \n",
       "5                                           0.816776               \n",
       "6                                           0.217909               \n",
       "\n",
       "   Age dependency ratio (% of working-age population)  \\\n",
       "0                                           0.759386    \n",
       "1                                           0.288206    \n",
       "2                                           0.357783    \n",
       "5                                           0.873489    \n",
       "6                                           0.303293    \n",
       "\n",
       "   Agriculture value added per worker (constant 2005 US$)  \\\n",
       "0                                           0.001878        \n",
       "1                                           0.023421        \n",
       "2                                           0.022219        \n",
       "5                                           0.004762        \n",
       "6                                           0.013607        \n",
       "\n",
       "   Agriculture, value added (% of GDP)  \\\n",
       "0                             0.389207   \n",
       "1                             0.368167   \n",
       "2                             0.162579   \n",
       "5                             0.153240   \n",
       "6                             0.036433   \n",
       "\n",
       "   Agriculture, value added (annual % growth)  \\\n",
       "0                                    0.512795   \n",
       "1                                    0.514480   \n",
       "2                                    0.689702   \n",
       "5                                    0.499085   \n",
       "6                                    0.485343   \n",
       "\n",
       "   Agriculture, value added (constant 2005 US$)  \\\n",
       "0                                      0.007236   \n",
       "1                                      0.006235   \n",
       "2                                      0.031894   \n",
       "5                                      0.015177   \n",
       "6                                      0.000050   \n",
       "\n",
       "   Air transport, registered carrier departures worldwide  \\\n",
       "0                                           0.002658        \n",
       "1                                           0.000209        \n",
       "2                                           0.006238        \n",
       "5                                           0.001446        \n",
       "6                                           0.004858        \n",
       "\n",
       "                               ...                               \\\n",
       "0                              ...                                \n",
       "1                              ...                                \n",
       "2                              ...                                \n",
       "5                              ...                                \n",
       "6                              ...                                \n",
       "\n",
       "   Total employment, total (ages 15+)  \\\n",
       "0                            0.009424   \n",
       "1                            0.001247   \n",
       "2                            0.014095   \n",
       "5                            0.010228   \n",
       "6                                 NaN   \n",
       "\n",
       "   Unemployment, female (% of female labor force) (modeled ILO estimate)  \\\n",
       "0                                           0.309091                       \n",
       "1                                           0.350649                       \n",
       "2                                           0.428571                       \n",
       "5                                           0.179221                       \n",
       "6                                                NaN                       \n",
       "\n",
       "   Unemployment, male (% of male labor force) (modeled ILO estimate)  \\\n",
       "0                                           0.216301                   \n",
       "1                                           0.545455                   \n",
       "2                                           0.257053                   \n",
       "5                                           0.197492                   \n",
       "6                                                NaN                   \n",
       "\n",
       "   Unemployment, total (% of total labor force) (modeled ILO estimate)  \\\n",
       "0                                           0.250814                     \n",
       "1                                           0.511401                     \n",
       "2                                           0.309446                     \n",
       "5                                           0.211726                     \n",
       "6                                                NaN                     \n",
       "\n",
       "   Unemployment, youth female (% of female labor force ages 15-24) (modeled ILO estimate)  \\\n",
       "0                                           0.290743                                        \n",
       "1                                           0.307692                                        \n",
       "2                                           0.498044                                        \n",
       "5                                           0.138201                                        \n",
       "6                                                NaN                                        \n",
       "\n",
       "   Unemployment, youth male (% of male labor force ages 15-24) (modeled ILO estimate)  \\\n",
       "0                                           0.268128                                    \n",
       "1                                           0.531197                                    \n",
       "2                                           0.345700                                    \n",
       "5                                           0.161889                                    \n",
       "6                                                NaN                                    \n",
       "\n",
       "   Unemployment, youth total (% of total labor force ages 15-24) (modeled ILO estimate)  \\\n",
       "0                                           0.281407                                      \n",
       "1                                           0.469012                                      \n",
       "2                                           0.390285                                      \n",
       "5                                           0.165829                                      \n",
       "6                                                NaN                                      \n",
       "\n",
       "   Urban population  Urban population (% of total)  \\\n",
       "0          0.011169                       0.193898   \n",
       "1          0.002170                       0.523335   \n",
       "2          0.036755                       0.673362   \n",
       "5          0.014095                       0.379705   \n",
       "6          0.000000                       0.171022   \n",
       "\n",
       "   Weeks of severance pay for redundancy of experienced workers  \n",
       "0                                           0.100000             \n",
       "1                                           0.164835             \n",
       "2                                           0.050000             \n",
       "5                                           0.208333             \n",
       "6                                           0.184615             \n",
       "\n",
       "[5 rows x 98 columns]"
      ]
     },
     "execution_count": 3,
     "metadata": {},
     "output_type": "execute_result"
    }
   ],
   "source": [
    "d_2016_n = d_2016\n",
    "for k in range(2,len(d_2016.keys())):\n",
    "    \n",
    "    llave = d_2016.keys()[k]\n",
    "    valores = d_2016[llave] \n",
    "    xvals = valores.tolist()\n",
    "    #Normalización\n",
    "    xmax = np.nanmax(valores)\n",
    "    xmin = np.nanmin(valores)\n",
    "    norm = xmax - xmin\n",
    "    #pdb.set_trace()\n",
    "    if (not np.isnan(xmax)) and norm!=0:\n",
    "            d_2016_n[llave] = (d_2016[llave]-xmin)/norm\n",
    "    \n",
    "\n",
    "d_2016_n.head()"
   ]
  },
  {
   "cell_type": "markdown",
   "metadata": {},
   "source": [
    "# Analisis Estadistico"
   ]
  },
  {
   "cell_type": "code",
   "execution_count": 4,
   "metadata": {},
   "outputs": [
    {
     "name": "stdout",
     "output_type": "stream",
     "text": [
      "Estadisticas con mayor varianza:\n",
      "1 Index([[u'Depth of credit information index (0=low to 8=high)']], dtype='object') (0.154126922934)\n",
      "2 Index([[u'Private credit bureau coverage (% of adults)']], dtype='object') (0.137269999768)\n",
      "3 Index([[u'Do legal provisions mandate equal pay for equal work (1=Yes, 0=No)?']], dtype='object') (0.114337315138)\n",
      "4 Index([[u'Roads, paved (% of total roads)']], dtype='object') (0.113718303798)\n",
      "5 Index([[u'Access to electricity (% of population)']], dtype='object') (0.106486217041)\n",
      "6 Index([[u'Internet users (per 100 people)']], dtype='object') (0.0882086883841)\n",
      "7 Index([[u'Ease of doing business index (1=most business-friendly regulations)']], dtype='object') (0.0856155353659)\n",
      "8 Index([[u'Fuel exports (% of merchandise exports)']], dtype='object') (0.0819075384232)\n",
      "9 Index([[u'Population ages 0-14 (% of total)']], dtype='object') (0.0777036373466)\n",
      "10 Index([[u'School enrollment, tertiary, female (% gross)']], dtype='object') (0.075188045982)\n"
     ]
    }
   ],
   "source": [
    "varianzas = []\n",
    "promedios = []\n",
    "maximos = []\n",
    "minimos = []\n",
    "desv = []\n",
    "for k in range(2,len(d_2016_n.keys())):\n",
    "    \n",
    "    llave = d_2016_n.keys()[k]\n",
    "    valores = d_2016_n[llave] \n",
    "    count = 0\n",
    "    \n",
    "    #Normalización\n",
    "    xmax = np.nanmax(valores)\n",
    "    xmean = np.nanmean(valores)\n",
    "    xmin = np.nanmin(valores)\n",
    "    xstd = np.nanstd(valores)\n",
    "    xvar = np.nanvar(valores)\n",
    "    if np.isnan(xvar):\n",
    "        print llave\n",
    "    \n",
    "    promedios.append(xmean)\n",
    "    minimos.append(xmin)\n",
    "    maximos.append(xmax)\n",
    "    desv.append(xstd)\n",
    "    varianzas.append(xvar)\n",
    "    \n",
    "sort = np.sort(varianzas)\n",
    "\n",
    "most = -1   \n",
    "\n",
    "print \"Estadisticas con mayor varianza:\"\n",
    "#pdb.set_trace()\n",
    "for i in range(10):\n",
    "    value = sort[most]\n",
    "    j = np.argwhere(varianzas == sort[most])+2\n",
    "    features = d_2016_n.keys()\n",
    "    print str(i+1)+' '+str(features[j])+' ('+str(sort[most]) +')'\n",
    "    most-=1\n"
   ]
  },
  {
   "cell_type": "markdown",
   "metadata": {},
   "source": [
    "# Graficos"
   ]
  },
  {
   "cell_type": "markdown",
   "metadata": {},
   "source": [
    "## Histogramas"
   ]
  },
  {
   "cell_type": "markdown",
   "metadata": {},
   "source": [
    "## Codo"
   ]
  },
  {
   "cell_type": "code",
   "execution_count": 5,
   "metadata": {},
   "outputs": [
    {
     "data": {
      "image/png": "[encoded data removed]",
      "text/plain": [
       "<matplotlib.figure.Figure at 0xbe9cf98>"
      ]
     },
     "metadata": {},
     "output_type": "display_data"
    }
   ],
   "source": [
    "np_df = d_2016_n.as_matrix()\n",
    "test = np_df[:,2:]\n",
    "for row in range(test.shape[0]):\n",
    "    for column in range(test.shape[1]):\n",
    "        val = test[row][column]\n",
    "        #print val\n",
    "        if np.isnan(val):\n",
    "            test[row][column]= promedios[column] \n",
    "        else:\n",
    "            #test[row][column]= val/maximos[column] \n",
    "            pass\n",
    "\n",
    "xdf = pd.DataFrame(test)\n",
    "\n",
    "vectors = []\n",
    "tot = test#.T\n",
    "for i in range(len(tot[:,0])):\n",
    "    vectors.append(tot[i])\n",
    "    \n",
    "\n",
    "import matplotlib.pyplot as plt\n",
    "from sklearn.cluster import KMeans\n",
    "from sklearn import datasets\n",
    "from sklearn import metrics\n",
    "from scipy.spatial.distance import cdist\n",
    "\n",
    "X = tot\n",
    "\n",
    "# k means determine k\n",
    "distortions = []\n",
    "K = range(1,10)\n",
    "for k in K:\n",
    "    kmeanModel = KMeans(n_clusters=k).fit(X)\n",
    "    kmeanModel.fit(X)\n",
    "    distortions.append(sum(np.min(cdist(X, kmeanModel.cluster_centers_, 'euclidean'), axis=1)) / X.shape[0])\n",
    " \n",
    "# Plot the elbow\n",
    "plt.plot(K, distortions, 'bx-')\n",
    "plt.xlabel('k')\n",
    "plt.ylabel('Distortion')\n",
    "plt.title('The Elbow Method showing the optimal k')\n",
    "plt.show()"
   ]
  },
  {
   "cell_type": "markdown",
   "metadata": {},
   "source": [
    "# TSNE"
   ]
  },
  {
   "cell_type": "code",
   "execution_count": 6,
   "metadata": {},
   "outputs": [
    {
     "data": {
      "image/png": "[encoded data removed]",
      "text/plain": [
       "<matplotlib.figure.Figure at 0x9849a58>"
      ]
     },
     "metadata": {},
     "output_type": "display_data"
    }
   ],
   "source": [
    "from sklearn.manifold import TSNE\n",
    "import matplotlib.pyplot as plt\n",
    "X = vectors\n",
    "X_embedded = TSNE(n_components=2,n_iter=100000000).fit_transform(X)\n",
    "X_embedded.shape\n",
    "plt.scatter(X_embedded[:, 0], X_embedded[:, 1], c=\"r\", cmap=plt.cm.Spectral)\n",
    "plt.show()"
   ]
  },
  {
   "cell_type": "markdown",
   "metadata": {},
   "source": [
    "# PCA"
   ]
  },
  {
   "cell_type": "code",
   "execution_count": 7,
   "metadata": {},
   "outputs": [
    {
     "data": {
      "image/png": "[encoded data removed]",
      "text/plain": [
       "<matplotlib.figure.Figure at 0xd63af98>"
      ]
     },
     "metadata": {},
     "output_type": "display_data"
    }
   ],
   "source": [
    "from mpl_toolkits.mplot3d import Axes3D\n",
    "from sklearn import decomposition\n",
    "from sklearn import datasets\n",
    "\n",
    "np.random.seed(5)\n",
    "\n",
    "centers = [[1, 1], [-1, -1], [1, -1]]\n",
    "\n",
    "X = tot\n",
    "pca = decomposition.PCA(n_components=2)\n",
    "pca.fit(X)\n",
    "X = pca.transform(X)\n",
    "\n",
    "\n",
    "plt.scatter(X[:, 0], X[:, 1], c=\"r\", cmap=plt.cm.spectral,\n",
    "           edgecolor='k')\n",
    "\n",
    "\n",
    "plt.show()"
   ]
  },
  {
   "cell_type": "markdown",
   "metadata": {},
   "source": [
    "# clustering"
   ]
  },
  {
   "cell_type": "code",
   "execution_count": 8,
   "metadata": {},
   "outputs": [],
   "source": [
    "from sklearn.cluster import KMeans\n",
    "from sklearn import datasets\n",
    "\n",
    "X = tot\n",
    "\n",
    "kmeans = KMeans(n_clusters=4)\n",
    "kmeans.fit(X)\n",
    "labels = kmeans.labels_\n",
    "\n",
    "centroids = kmeans.cluster_centers_\n",
    "\n"
   ]
  },
  {
   "cell_type": "markdown",
   "metadata": {},
   "source": [
    "# tSNE"
   ]
  },
  {
   "cell_type": "code",
   "execution_count": 9,
   "metadata": {},
   "outputs": [
    {
     "data": {
      "image/png": "[encoded data removed]",
      "text/plain": [
       "<matplotlib.figure.Figure at 0x9849e10>"
      ]
     },
     "metadata": {},
     "output_type": "display_data"
    }
   ],
   "source": [
    "r = []\n",
    "r_l = []\n",
    "g = []\n",
    "g_l = []\n",
    "b = [] \n",
    "b_l = []\n",
    "y = []\n",
    "y_l = []\n",
    "c=[]\n",
    "c_l=[]\n",
    "m=[]\n",
    "m_l=[]\n",
    "\n",
    "r_embedded = TSNE(n_components=2,n_iter=100000000).fit_transform(X)\n",
    "r_embedded.shape\n",
    "for k in range(len(labels)):\n",
    "    if labels[k]==0:\n",
    "        r.append(X_embedded[k])\n",
    "        r_l.append(paises[k])\n",
    "    elif labels[k]==1:\n",
    "        g.append(X_embedded[k])\n",
    "        g_l.append(paises[k])\n",
    "    elif labels[k]==2:\n",
    "        b.append(X_embedded[k])\n",
    "        b_l.append(paises[k])\n",
    "    elif labels[k]==3:\n",
    "        y.append(X_embedded[k])\n",
    "        y_l.append(paises[k])\n",
    "    elif labels[k]==4:\n",
    "        c.append(X_embedded[k])\n",
    "        c_l.append(paises[k])\n",
    "    elif labels[k]==5:\n",
    "        m.append(X_embedded[k])\n",
    "        m_l.append(paises[k])\n",
    "plt.scatter([item[0] for item in r], [item[1] for item in r], c=\"r\", cmap=plt.cm.Spectral)\n",
    "plt.scatter([item[0] for item in g], [item[1] for item in g], c=\"g\", cmap=plt.cm.Spectral)\n",
    "plt.scatter([item[0] for item in b], [item[1] for item in b], c=\"b\", cmap=plt.cm.Spectral)\n",
    "plt.scatter([item[0] for item in y], [item[1] for item in y], c=\"y\", cmap=plt.cm.Spectral)\n",
    "plt.scatter([item[0] for item in c], [item[1] for item in c], c=\"c\", cmap=plt.cm.Spectral)\n",
    "plt.scatter([item[0] for item in m], [item[1] for item in m], c=\"m\", cmap=plt.cm.Spectral)\n",
    "plt.show()"
   ]
  },
  {
   "cell_type": "markdown",
   "metadata": {},
   "source": [
    "# PCA "
   ]
  },
  {
   "cell_type": "code",
   "execution_count": 10,
   "metadata": {},
   "outputs": [
    {
     "data": {
      "image/png": "[encoded data removed]",
      "text/plain": [
       "<matplotlib.figure.Figure at 0xd63a748>"
      ]
     },
     "metadata": {},
     "output_type": "display_data"
    }
   ],
   "source": [
    "from mpl_toolkits.mplot3d import Axes3D\n",
    "from sklearn import decomposition\n",
    "from sklearn import datasets\n",
    "\n",
    "\n",
    "X = tot\n",
    "pca = decomposition.PCA(n_components=2)\n",
    "pca.fit(X)\n",
    "X = pca.transform(X)\n",
    "\n",
    "r = []\n",
    "r_l = []\n",
    "g = []\n",
    "g_l = []\n",
    "b = [] \n",
    "b_l = []\n",
    "y = []\n",
    "y_l = []\n",
    "c = []\n",
    "c_l = []\n",
    "\n",
    "for k in range(len(labels)):\n",
    "    if labels[k]==0:\n",
    "        r.append(X[k])\n",
    "        r_l.append(paises[k])\n",
    "    elif labels[k]==1:\n",
    "        g.append(X[k])\n",
    "        g_l.append(paises[k])\n",
    "    elif labels[k]==2:\n",
    "        b.append(X[k])\n",
    "        b_l.append(paises[k])\n",
    "    elif labels[k]==3:\n",
    "        y.append(X[k])\n",
    "        y_l.append(paises[k])\n",
    "    elif labels[k]==4:\n",
    "        c.append(X[k])\n",
    "        c_l.append(paises[k])\n",
    "        \n",
    "plt.scatter([item[0] for item in r], [item[1] for item in r], c=\"r\", cmap=plt.cm.Spectral)\n",
    "plt.scatter([item[0] for item in g], [item[1] for item in g], c=\"g\", cmap=plt.cm.Spectral)\n",
    "plt.scatter([item[0] for item in b], [item[1] for item in b], c=\"b\", cmap=plt.cm.Spectral)\n",
    "plt.scatter([item[0] for item in y], [item[1] for item in y], c=\"y\", cmap=plt.cm.Spectral)\n",
    "plt.scatter([item[0] for item in c], [item[1] for item in c], c=\"c\", cmap=plt.cm.Spectral)\n",
    "plt.show()"
   ]
  },
  {
   "cell_type": "code",
   "execution_count": 11,
   "metadata": {},
   "outputs": [
    {
     "data": {
      "text/plain": [
       "[u'Afghanistan',\n",
       " u'Angola',\n",
       " u'Bangladesh',\n",
       " u'Benin',\n",
       " u'Burkina Faso',\n",
       " u'Burundi',\n",
       " u'Cambodia',\n",
       " u'Cameroon',\n",
       " u'Central African Republic',\n",
       " u'Chad',\n",
       " u'Comoros',\n",
       " u'Congo, Dem. Rep.',\n",
       " u'Congo, Rep.',\n",
       " u\"Cote d'Ivoire\",\n",
       " u'Djibouti',\n",
       " u'Equatorial Guinea',\n",
       " u'Eritrea',\n",
       " u'Ethiopia',\n",
       " u'Gambia, The',\n",
       " u'Guinea',\n",
       " u'Guinea-Bissau',\n",
       " u'Haiti',\n",
       " u'Kenya',\n",
       " u'Lao PDR',\n",
       " u'Lesotho',\n",
       " u'Liberia',\n",
       " u'Low income',\n",
       " u'Madagascar',\n",
       " u'Malawi',\n",
       " u'Mali',\n",
       " u'Mauritania',\n",
       " u'Mozambique',\n",
       " u'Myanmar',\n",
       " u'Nepal',\n",
       " u'Niger',\n",
       " u'Nigeria',\n",
       " u'Papua New Guinea',\n",
       " u'Rwanda',\n",
       " u'Sao Tome and Principe',\n",
       " u'Senegal',\n",
       " u'Sierra Leone',\n",
       " u'Solomon Islands',\n",
       " u'Sudan',\n",
       " u'Tanzania',\n",
       " u'Timor-Leste',\n",
       " u'Togo',\n",
       " u'Uganda',\n",
       " u'Vanuatu',\n",
       " u'Yemen, Rep.',\n",
       " u'Zambia',\n",
       " u'Zimbabwe']"
      ]
     },
     "execution_count": 11,
     "metadata": {},
     "output_type": "execute_result"
    }
   ],
   "source": [
    "r_l"
   ]
  },
  {
   "cell_type": "code",
   "execution_count": 12,
   "metadata": {},
   "outputs": [
    {
     "data": {
      "text/plain": [
       "[u'Algeria',\n",
       " u'Antigua and Barbuda',\n",
       " u'Azerbaijan',\n",
       " u'Bahamas, The',\n",
       " u'Belize',\n",
       " u'Bhutan',\n",
       " u'Bolivia',\n",
       " u'Botswana',\n",
       " u'Brunei Darussalam',\n",
       " u'Cabo Verde',\n",
       " u'China',\n",
       " u'Ecuador',\n",
       " u'Egypt, Arab Rep.',\n",
       " u'El Salvador',\n",
       " u'Fiji',\n",
       " u'Gabon',\n",
       " u'Ghana',\n",
       " u'Grenada',\n",
       " u'Guatemala',\n",
       " u'Guyana',\n",
       " u'Honduras',\n",
       " u'India',\n",
       " u'Indonesia',\n",
       " u'Iraq',\n",
       " u'Jamaica',\n",
       " u'Jordan',\n",
       " u'Kyrgyz Republic',\n",
       " u'Libya',\n",
       " u'Maldives',\n",
       " u'Mongolia',\n",
       " u'Morocco',\n",
       " u'Namibia',\n",
       " u'Nicaragua',\n",
       " u'Oman',\n",
       " u'Pakistan',\n",
       " u'Panama',\n",
       " u'Paraguay',\n",
       " u'Peru',\n",
       " u'Philippines',\n",
       " u'Samoa',\n",
       " u'Seychelles',\n",
       " u'South Africa',\n",
       " u'Sri Lanka',\n",
       " u'St. Lucia',\n",
       " u'St. Vincent and the Grenadines',\n",
       " u'Suriname',\n",
       " u'Swaziland',\n",
       " u'Syrian Arab Republic',\n",
       " u'Tajikistan',\n",
       " u'Tonga',\n",
       " u'Trinidad and Tobago',\n",
       " u'Tunisia',\n",
       " u'Uzbekistan',\n",
       " u'Venezuela, RB',\n",
       " u'Vietnam',\n",
       " u'West Bank and Gaza']"
      ]
     },
     "execution_count": 12,
     "metadata": {},
     "output_type": "execute_result"
    }
   ],
   "source": [
    "g_l"
   ]
  },
  {
   "cell_type": "code",
   "execution_count": 13,
   "metadata": {},
   "outputs": [
    {
     "data": {
      "text/plain": [
       "[u'Albania',\n",
       " u'Argentina',\n",
       " u'Armenia',\n",
       " u'Bahrain',\n",
       " u'Barbados',\n",
       " u'Belarus',\n",
       " u'Bosnia and Herzegovina',\n",
       " u'Brazil',\n",
       " u'Bulgaria',\n",
       " u'Chile',\n",
       " u'Colombia',\n",
       " u'Costa Rica',\n",
       " u'Croatia',\n",
       " u'Cuba',\n",
       " u'Cyprus',\n",
       " u'Czech Republic',\n",
       " u'Dominican Republic',\n",
       " u'Estonia',\n",
       " u'Georgia',\n",
       " u'Greece',\n",
       " u'Hungary',\n",
       " u'Iran, Islamic Rep.',\n",
       " u'Italy',\n",
       " u'Kazakhstan',\n",
       " u'Kuwait',\n",
       " u'Latvia',\n",
       " u'Lebanon',\n",
       " u'Lithuania',\n",
       " u'Macedonia, FYR',\n",
       " u'Malaysia',\n",
       " u'Mauritius',\n",
       " u'Mexico',\n",
       " u'Moldova',\n",
       " u'Montenegro',\n",
       " u'Poland',\n",
       " u'Portugal',\n",
       " u'Puerto Rico',\n",
       " u'Qatar',\n",
       " u'Romania',\n",
       " u'Russian Federation',\n",
       " u'Saudi Arabia',\n",
       " u'Serbia',\n",
       " u'Slovak Republic',\n",
       " u'Spain',\n",
       " u'Thailand',\n",
       " u'Turkey',\n",
       " u'Ukraine',\n",
       " u'United Arab Emirates',\n",
       " u'Uruguay']"
      ]
     },
     "execution_count": 13,
     "metadata": {},
     "output_type": "execute_result"
    }
   ],
   "source": [
    "b_l"
   ]
  },
  {
   "cell_type": "code",
   "execution_count": 14,
   "metadata": {},
   "outputs": [
    {
     "data": {
      "text/plain": [
       "[u'Australia',\n",
       " u'Austria',\n",
       " u'Belgium',\n",
       " u'Canada',\n",
       " u'Denmark',\n",
       " u'Finland',\n",
       " u'France',\n",
       " u'Germany',\n",
       " u'Hong Kong SAR, China',\n",
       " u'Iceland',\n",
       " u'Ireland',\n",
       " u'Israel',\n",
       " u'Japan',\n",
       " u'Korea, Rep.',\n",
       " u'Luxembourg',\n",
       " u'Macao SAR, China',\n",
       " u'Malta',\n",
       " u'Netherlands',\n",
       " u'New Zealand',\n",
       " u'Norway',\n",
       " u'Singapore',\n",
       " u'Slovenia',\n",
       " u'Sweden',\n",
       " u'Switzerland',\n",
       " u'United Kingdom',\n",
       " u'United States']"
      ]
     },
     "execution_count": 14,
     "metadata": {},
     "output_type": "execute_result"
    }
   ],
   "source": [
    "y_l"
   ]
  },
  {
   "cell_type": "code",
   "execution_count": 15,
   "metadata": {},
   "outputs": [
    {
     "data": {
      "text/plain": [
       "[]"
      ]
     },
     "execution_count": 15,
     "metadata": {},
     "output_type": "execute_result"
    }
   ],
   "source": [
    "c_l"
   ]
  },
  {
   "cell_type": "code",
   "execution_count": 16,
   "metadata": {},
   "outputs": [
    {
     "data": {
      "text/plain": [
       "[]"
      ]
     },
     "execution_count": 16,
     "metadata": {},
     "output_type": "execute_result"
    }
   ],
   "source": [
    "m_l"
   ]
  },
  {
   "cell_type": "code",
   "execution_count": 31,
   "metadata": {},
   "outputs": [
    {
     "data": {
      "image/png": "[encoded data removed]",
      "text/plain": [
       "<matplotlib.figure.Figure at 0xd6de71d0>"
      ]
     },
     "metadata": {},
     "output_type": "display_data"
    }
   ],
   "source": [
    "import cartopy.crs as ccrs\n",
    "import matplotlib.pyplot as plt\n",
    "import cartopy.io.shapereader as shpreader\n",
    "import itertools\n",
    "import numpy as np\n",
    "\n",
    "shapename = 'admin_0_countries'\n",
    "countries_shp = shpreader.natural_earth(resolution='110m',\n",
    "                                        category='cultural', name=shapename)\n",
    "\n",
    "# some nice \"earthy\" colors\n",
    "\n",
    "\n",
    "ax = plt.axes(projection=ccrs.PlateCarree())\n",
    "for country in shpreader.Reader(countries_shp).records():\n",
    "    if any(country.attributes['NAME_LONG'] in x for x in r_l):\n",
    "        color = 'r'\n",
    "    elif any(country.attributes['NAME_LONG'] in x for x in g_l):\n",
    "        color = 'g'\n",
    "    elif any(country.attributes['NAME_LONG'] in x for x in b_l):\n",
    "        color = 'b'\n",
    "    elif any(country.attributes['NAME_LONG'] in x for x in y_l):\n",
    "        color = 'y'\n",
    "    ax.add_geometries(country.geometry, ccrs.PlateCarree(),\n",
    "    facecolor=color,\n",
    "    label=country.attributes['NAME_LONG'])\n",
    "\n",
    "plt.show()"
   ]
  },
  {
   "cell_type": "code",
   "execution_count": null,
   "metadata": {
    "collapsed": true
   },
   "outputs": [],
   "source": []
  }
 ],
 "metadata": {
  "kernelspec": {
   "display_name": "Python 2",
   "language": "python",
   "name": "python2"
  },
  "language_info": {
   "codemirror_mode": {
    "name": "ipython",
    "version": 2
   },
   "file_extension": ".py",
   "mimetype": "text/x-python",
   "name": "python",
   "nbconvert_exporter": "python",
   "pygments_lexer": "ipython2",
   "version": "2.7.14"
  }
 },
 "nbformat": 4,
 "nbformat_minor": 1
}
